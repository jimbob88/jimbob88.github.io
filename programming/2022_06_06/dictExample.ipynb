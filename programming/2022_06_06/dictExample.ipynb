{
 "cells": [
  {
   "cell_type": "markdown",
   "id": "3569eaac",
   "metadata": {},
   "source": [
    "# Stop doing this when making dictionaries\n",
    "\n",
    "Online I see [people](https://www.programiz.com/dsa/huffman-coding) using the following piece of python code, all over the place:\n",
    "\n",
    "```python\n",
    "freq = {}\n",
    "for c in string:\n",
    "    if c in freq:\n",
    "        freq[c] += 1\n",
    "    else:\n",
    "        freq[c] = 1\n",
    "```\n",
    "\n",
    "They use this because it somewhat makes sense in python and is very explicit. The problem is, is that it is messy. It's that simple, it's just messy code.\n",
    "\n",
    "Take the following C++11 code:\n",
    "\n",
    "```cpp\n",
    "std::unordered_map<std::char, int> freq;\n",
    "for(char& c : str) {\n",
    "    freq[c]++;\n",
    "}\n",
    "```\n",
    "\n",
    "You may question the above code if you are a python programmer and say, \"but what if the character hasn't been seen yet, surely and error will be thrown?\". That's the magic of a map, it just lets you create a new \"key\" if it doesn't already exist! \n",
    "\n",
    "This is similar to the following in python:\n",
    "\n",
    "With a list:\n",
    "```python\n",
    "x: list = []\n",
    "x[1] = 1 # IndexError: list index out of range\n",
    "```\n",
    "\n",
    "With a dict:\n",
    "```python\n",
    "x: dict = {}\n",
    "x[1] = 1 # Entirely legal and allowed\n",
    "```\n",
    "\n",
    "So if you can do that with a `dict`, surely you should be allowed to do it with a `+=` sign.\n",
    "\n",
    "Don't fear, because you actually can!\n",
    "\n",
    "```\n",
    "from collections import defaultdict\n",
    "\n",
    "x: defaultdict = defaultdict(int)\n",
    "x[1] += 1\n",
    "```\n",
    "\n",
    "This can now be implemented in a near mimic of the C++.\n",
    "\n",
    "Let's implement character counting like we did earlier and do a speed test too!"
   ]
  },
  {
   "cell_type": "code",
   "execution_count": 1,
   "id": "7f54a696",
   "metadata": {},
   "outputs": [],
   "source": [
    "def dictCount(s: str):\n",
    "    freq = {}\n",
    "    for c in s:\n",
    "        if c in freq:\n",
    "            freq[c] += 1\n",
    "        else:\n",
    "            freq[c] = 1\n",
    "    return freq"
   ]
  },
  {
   "cell_type": "code",
   "execution_count": 2,
   "id": "e4206326",
   "metadata": {},
   "outputs": [],
   "source": [
    "from collections import defaultdict\n",
    "\n",
    "def defaultDictCount(s: str):\n",
    "    freq = defaultdict(int)\n",
    "    for c in s:\n",
    "        freq[c] += 1\n",
    "    return freq"
   ]
  },
  {
   "cell_type": "code",
   "execution_count": 3,
   "id": "af57cca3",
   "metadata": {},
   "outputs": [],
   "source": [
    "s = \"\"\"Lorem ipsum dolor sit amet, consectetur adipiscing elit. \n",
    "Sed dapibus dignissim lectus, at tristique odio scelerisque non.\n",
    "Vestibulum scelerisque rhoncus elit, nec blandit libero eleifend id.\n",
    "Etiam sapien justo, viverra eu tristique vel, facilisis vitae ligula. \n",
    "Sed nulla risus, molestie non tellus a, consectetur placerat mi. \n",
    "Pellentesque a feugiat diam, quis blandit libero. \n",
    "Donec eu metus purus.\n",
    "Nullam vel aliquet odio.\"\"\" "
   ]
  },
  {
   "cell_type": "code",
   "execution_count": 4,
   "id": "b7412472",
   "metadata": {},
   "outputs": [
    {
     "name": "stdout",
     "output_type": "stream",
     "text": [
      "45.7 µs ± 294 ns per loop (mean ± std. dev. of 7 runs, 50000 loops each)\n"
     ]
    }
   ],
   "source": [
    "%timeit -n 50000 dictCount(s)"
   ]
  },
  {
   "cell_type": "code",
   "execution_count": 5,
   "id": "7d5beff8",
   "metadata": {},
   "outputs": [
    {
     "name": "stdout",
     "output_type": "stream",
     "text": [
      "40.2 µs ± 377 ns per loop (mean ± std. dev. of 7 runs, 50000 loops each)\n"
     ]
    }
   ],
   "source": [
    "%timeit -n 50000 defaultDictCount(s)"
   ]
  },
  {
   "cell_type": "markdown",
   "id": "d8b4ffd7",
   "metadata": {},
   "source": [
    "As you can see, `defaultdict` is marginally faster, but also (arguably) cleaner too. I personally prefer it because it also forces static typing like in C++. Some people don't like static typing, and I have to admit, I didn't either for a long time, but it genuinely makes a lot of sense and it makes debugging code an order of magnitude easier. It is also extremely useful when linting programs."
   ]
  }
 ],
 "metadata": {
  "kernelspec": {
   "display_name": "Python 3 (ipykernel)",
   "language": "python",
   "name": "python3"
  },
  "language_info": {
   "codemirror_mode": {
    "name": "ipython",
    "version": 3
   },
   "file_extension": ".py",
   "mimetype": "text/x-python",
   "name": "python",
   "nbconvert_exporter": "python",
   "pygments_lexer": "ipython3",
   "version": "3.9.7"
  }
 },
 "nbformat": 4,
 "nbformat_minor": 5
}
